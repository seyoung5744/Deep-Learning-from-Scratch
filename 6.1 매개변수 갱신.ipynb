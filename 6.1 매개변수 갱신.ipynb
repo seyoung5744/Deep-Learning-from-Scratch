{
 "cells": [
  {
   "cell_type": "markdown",
   "id": "a1bb08d1",
   "metadata": {},
   "source": [
    "# 6.1.2 확률적 경사 하강법(SGD)"
   ]
  },
  {
   "cell_type": "markdown",
   "id": "bf51961e",
   "metadata": {},
   "source": [
    "$$ W <- W - η\\frac{∂L}{∂W}$$"
   ]
  },
  {
   "cell_type": "code",
   "execution_count": 1,
   "id": "04d903b2",
   "metadata": {},
   "outputs": [],
   "source": [
    "class SGD:\n",
    "    def __init__(self, lr=0.01):\n",
    "        self.lr = lr\n",
    "        \n",
    "    def update(self, params, grads):\n",
    "        for key in params.keys():\n",
    "            params[key] -= self.lr * grads[key]"
   ]
  },
  {
   "cell_type": "code",
   "execution_count": null,
   "id": "f708c391",
   "metadata": {},
   "outputs": [],
   "source": []
  },
  {
   "cell_type": "markdown",
   "id": "b34cf71e",
   "metadata": {},
   "source": [
    "# 6.1.4 모멘텀(Momentum)"
   ]
  },
  {
   "cell_type": "markdown",
   "id": "6444fa6b",
   "metadata": {},
   "source": [
    "$$ v ← αv - η\\frac{∂L}{∂W}$$\n",
    "$$ W ← W + v$$"
   ]
  },
  {
   "cell_type": "code",
   "execution_count": 2,
   "id": "dd664182",
   "metadata": {},
   "outputs": [],
   "source": [
    "import numpy as np"
   ]
  },
  {
   "cell_type": "code",
   "execution_count": 3,
   "id": "7fde7326",
   "metadata": {},
   "outputs": [],
   "source": [
    "class Momentum:\n",
    "    def __init__(self, lr=0.01, momentum=0.9):\n",
    "        self.lr = lr\n",
    "        self.momentum = momentum\n",
    "        self.v = None\n",
    "        \n",
    "    def update(self, params, grads):\n",
    "        if self.v is None:\n",
    "            self.v = {}\n",
    "            for key, val in params.items():\n",
    "                self.v[key] -= np.zeros_like(val)\n",
    "                \n",
    "        for key in params.keys():\n",
    "            self.v[key] = self.momentum*self.v[key] - self.lr*grads[key]\n",
    "            params[key] += self.v[key]"
   ]
  },
  {
   "cell_type": "code",
   "execution_count": null,
   "id": "99cb449f",
   "metadata": {},
   "outputs": [],
   "source": []
  },
  {
   "cell_type": "markdown",
   "id": "86623592",
   "metadata": {},
   "source": [
    "# 6.1.5 AdaGrad\n",
    "- 개별 매개변수에 적응적으로(adaptive) 학습률을 조정하면서 학습을 진행"
   ]
  },
  {
   "cell_type": "markdown",
   "id": "06e4a990",
   "metadata": {},
   "source": [
    "$$ h ← h + \\frac{∂L}{∂W} ⊙ \\frac{∂L}{∂W}$$\n",
    "$$ W ← W - η\\frac{1}{\\sqrt{h}}\\frac{∂L}{∂W}$$"
   ]
  },
  {
   "cell_type": "code",
   "execution_count": 4,
   "id": "9f79f694",
   "metadata": {},
   "outputs": [],
   "source": [
    "class AdaGrad:\n",
    "    def __init__(self, lr=0.01):\n",
    "        self.lr = lr\n",
    "        self.h = None\n",
    "        \n",
    "    def update(self, params, grads):\n",
    "        if self.h is None:\n",
    "            self.h = {}\n",
    "            for key, val in params.items():\n",
    "                self.h[key] = np.zeros_like(val)\n",
    "        \n",
    "        for key in params.keys():\n",
    "            self.h[key] += grads[key] * grads[key]\n",
    "            params[key] -= self.lr * grads[key]/ (np.sqrt(self.h[key]) + 1e-7)"
   ]
  },
  {
   "cell_type": "code",
   "execution_count": null,
   "id": "355e2240",
   "metadata": {},
   "outputs": [],
   "source": []
  },
  {
   "cell_type": "markdown",
   "id": "7771e028",
   "metadata": {},
   "source": [
    "# 6.1.6 Adam"
   ]
  },
  {
   "cell_type": "code",
   "execution_count": 5,
   "id": "301a944b",
   "metadata": {},
   "outputs": [],
   "source": [
    "class Adam:\n",
    "\n",
    "    \"\"\"Adam (http://arxiv.org/abs/1412.6980v8)\"\"\"\n",
    "\n",
    "    def __init__(self, lr=0.001, beta1=0.9, beta2=0.999):\n",
    "        self.lr = lr\n",
    "        self.beta1 = beta1\n",
    "        self.beta2 = beta2\n",
    "        self.iter = 0\n",
    "        self.m = None\n",
    "        self.v = None\n",
    "        \n",
    "    def update(self, params, grads):\n",
    "        if self.m is None:\n",
    "            self.m, self.v = {}, {}\n",
    "            for key, val in params.items():\n",
    "                self.m[key] = np.zeros_like(val)\n",
    "                self.v[key] = np.zeros_like(val)\n",
    "        \n",
    "        self.iter += 1\n",
    "        lr_t  = self.lr * np.sqrt(1.0 - self.beta2**self.iter) / (1.0 - self.beta1**self.iter)         \n",
    "        \n",
    "        for key in params.keys():\n",
    "            #self.m[key] = self.beta1*self.m[key] + (1-self.beta1)*grads[key]\n",
    "            #self.v[key] = self.beta2*self.v[key] + (1-self.beta2)*(grads[key]**2)\n",
    "            self.m[key] += (1 - self.beta1) * (grads[key] - self.m[key])\n",
    "            self.v[key] += (1 - self.beta2) * (grads[key]**2 - self.v[key])\n",
    "            \n",
    "            params[key] -= lr_t * self.m[key] / (np.sqrt(self.v[key]) + 1e-7)\n",
    "            \n",
    "            #unbias_m += (1 - self.beta1) * (grads[key] - self.m[key]) # correct bias\n",
    "            #unbisa_b += (1 - self.beta2) * (grads[key]*grads[key] - self.v[key]) # correct bias\n",
    "            #params[key] += self.lr * unbias_m / (np.sqrt(unbisa_b) + 1e-7)"
   ]
  },
  {
   "cell_type": "code",
   "execution_count": null,
   "id": "5a6f0737",
   "metadata": {},
   "outputs": [],
   "source": []
  },
  {
   "cell_type": "markdown",
   "id": "81421ec6",
   "metadata": {},
   "source": [
    "# 6.1.7 어느 갱신 방법을 이용할 것인가?"
   ]
  },
  {
   "cell_type": "code",
   "execution_count": 6,
   "id": "eeda1f5e",
   "metadata": {},
   "outputs": [
    {
     "data": {
      "image/png": "[encoded data removed]",
      "text/plain": [
       "<Figure size 432x288 with 4 Axes>"
      ]
     },
     "metadata": {
      "needs_background": "light"
     },
     "output_type": "display_data"
    }
   ],
   "source": [
    "# coding: utf-8\n",
    "import sys, os\n",
    "sys.path.append(os.pardir)  # 부모 디렉터리의 파일을 가져올 수 있도록 설정\n",
    "import numpy as np\n",
    "import matplotlib.pyplot as plt\n",
    "from collections import OrderedDict\n",
    "from deep_learning_github.common.optimizer import *\n",
    "\n",
    "\n",
    "def f(x, y):\n",
    "    return x**2 / 20.0 + y**2\n",
    "\n",
    "\n",
    "def df(x, y):\n",
    "    return x / 10.0, 2.0*y\n",
    "\n",
    "init_pos = (-7.0, 2.0)\n",
    "params = {}\n",
    "params['x'], params['y'] = init_pos[0], init_pos[1]\n",
    "grads = {}\n",
    "grads['x'], grads['y'] = 0, 0\n",
    "\n",
    "\n",
    "optimizers = OrderedDict()\n",
    "optimizers[\"SGD\"] = SGD(lr=0.95)\n",
    "optimizers[\"Momentum\"] = Momentum(lr=0.1)\n",
    "optimizers[\"AdaGrad\"] = AdaGrad(lr=1.5)\n",
    "optimizers[\"Adam\"] = Adam(lr=0.3)\n",
    "\n",
    "idx = 1\n",
    "\n",
    "for key in optimizers:\n",
    "    optimizer = optimizers[key]\n",
    "    x_history = []\n",
    "    y_history = []\n",
    "    params['x'], params['y'] = init_pos[0], init_pos[1]\n",
    "    \n",
    "    for i in range(30):\n",
    "        x_history.append(params['x'])\n",
    "        y_history.append(params['y'])\n",
    "        \n",
    "        grads['x'], grads['y'] = df(params['x'], params['y'])\n",
    "        optimizer.update(params, grads)\n",
    "    \n",
    "\n",
    "    x = np.arange(-10, 10, 0.01)\n",
    "    y = np.arange(-5, 5, 0.01)\n",
    "    \n",
    "    X, Y = np.meshgrid(x, y) \n",
    "    Z = f(X, Y)\n",
    "    \n",
    "    # 외곽선 단순화\n",
    "    mask = Z > 7\n",
    "    Z[mask] = 0\n",
    "    \n",
    "    # 그래프 그리기\n",
    "    plt.subplot(2, 2, idx)\n",
    "    idx += 1\n",
    "    plt.plot(x_history, y_history, 'o-', color=\"red\")\n",
    "    plt.contour(X, Y, Z)\n",
    "    plt.ylim(-10, 10)\n",
    "    plt.xlim(-10, 10)\n",
    "    plt.plot(0, 0, '+')\n",
    "    #colorbar()\n",
    "    #spring()\n",
    "    plt.title(key)\n",
    "    plt.xlabel(\"x\")\n",
    "    plt.ylabel(\"y\")\n",
    "    \n",
    "plt.show()\n"
   ]
  },
  {
   "cell_type": "code",
   "execution_count": null,
   "id": "e62dbb8c",
   "metadata": {},
   "outputs": [],
   "source": []
  },
  {
   "cell_type": "markdown",
   "id": "fbddc936",
   "metadata": {},
   "source": [
    "# 6.1.8 MNIST 데이터셋으로 본 갱신 방법 비교"
   ]
  },
  {
   "cell_type": "code",
   "execution_count": 9,
   "id": "1585fdc6",
   "metadata": {},
   "outputs": [
    {
     "name": "stdout",
     "output_type": "stream",
     "text": [
      "===========iteration:0===========\n",
      "SGD:2.355808240971748\n",
      "Momentum:2.3705190441966453\n",
      "AdaGrad:1.8962621350529396\n",
      "Adam:2.241612932114256\n",
      "===========iteration:100===========\n",
      "SGD:1.4660141829396345\n",
      "Momentum:0.2601232580964359\n",
      "AdaGrad:0.08529734618349874\n",
      "Adam:0.1899806770264298\n",
      "===========iteration:200===========\n",
      "SGD:0.7531660865102965\n",
      "Momentum:0.20952583702381974\n",
      "AdaGrad:0.06306991138345004\n",
      "Adam:0.13683435187462453\n",
      "===========iteration:300===========\n",
      "SGD:0.6042395183641691\n",
      "Momentum:0.3579071052880565\n",
      "AdaGrad:0.1994943431749455\n",
      "Adam:0.32725068654051764\n",
      "===========iteration:400===========\n",
      "SGD:0.4544482410802387\n",
      "Momentum:0.23444884797455487\n",
      "AdaGrad:0.06005092716063777\n",
      "Adam:0.15597303682279298\n",
      "===========iteration:500===========\n",
      "SGD:0.2972168081004276\n",
      "Momentum:0.09958808015995228\n",
      "AdaGrad:0.030537935201729528\n",
      "Adam:0.056278161715001364\n",
      "===========iteration:600===========\n",
      "SGD:0.32463611343075693\n",
      "Momentum:0.14608503481089835\n",
      "AdaGrad:0.05538583894983146\n",
      "Adam:0.0627164164815\n",
      "===========iteration:700===========\n",
      "SGD:0.26389566247289215\n",
      "Momentum:0.08499626879426289\n",
      "AdaGrad:0.03181093785621684\n",
      "Adam:0.057411099133069875\n",
      "===========iteration:800===========\n",
      "SGD:0.3675340818869416\n",
      "Momentum:0.15981289500689871\n",
      "AdaGrad:0.05159622965416111\n",
      "Adam:0.11401384155637957\n",
      "===========iteration:900===========\n",
      "SGD:0.27119711678772707\n",
      "Momentum:0.07657886827843753\n",
      "AdaGrad:0.026276689311975278\n",
      "Adam:0.046855424962612496\n",
      "===========iteration:1000===========\n",
      "SGD:0.3647690189975723\n",
      "Momentum:0.11941063486333921\n",
      "AdaGrad:0.07423565664863063\n",
      "Adam:0.0839557737193993\n",
      "===========iteration:1100===========\n",
      "SGD:0.1953220206054793\n",
      "Momentum:0.04674916190186265\n",
      "AdaGrad:0.020003191119835055\n",
      "Adam:0.05414620573811862\n",
      "===========iteration:1200===========\n",
      "SGD:0.25596552995671673\n",
      "Momentum:0.07245448569493644\n",
      "AdaGrad:0.018851988871273755\n",
      "Adam:0.059764696959397595\n",
      "===========iteration:1300===========\n",
      "SGD:0.23109232404828753\n",
      "Momentum:0.06718172295179736\n",
      "AdaGrad:0.017297281912019603\n",
      "Adam:0.032001634050792906\n",
      "===========iteration:1400===========\n",
      "SGD:0.234957470210096\n",
      "Momentum:0.05592652015191246\n",
      "AdaGrad:0.018783361322375985\n",
      "Adam:0.04345563004822192\n",
      "===========iteration:1500===========\n",
      "SGD:0.24274513926581037\n",
      "Momentum:0.08583690605916336\n",
      "AdaGrad:0.04880662425442105\n",
      "Adam:0.05330191924994036\n",
      "===========iteration:1600===========\n",
      "SGD:0.19983842162187415\n",
      "Momentum:0.08768175479116959\n",
      "AdaGrad:0.021403481133668655\n",
      "Adam:0.03509459170010535\n",
      "===========iteration:1700===========\n",
      "SGD:0.27569507978048413\n",
      "Momentum:0.09218421108115565\n",
      "AdaGrad:0.060015255799738786\n",
      "Adam:0.09514042667017869\n",
      "===========iteration:1800===========\n",
      "SGD:0.2777301816449955\n",
      "Momentum:0.09492695736982017\n",
      "AdaGrad:0.05860810210825511\n",
      "Adam:0.07165851800397874\n",
      "===========iteration:1900===========\n",
      "SGD:0.15661193843234356\n",
      "Momentum:0.04028933406558842\n",
      "AdaGrad:0.018107078902308817\n",
      "Adam:0.032563276677144745\n"
     ]
    },
    {
     "data": {
      "image/png": "[encoded data removed]",
      "text/plain": [
       "<Figure size 432x288 with 1 Axes>"
      ]
     },
     "metadata": {
      "needs_background": "light"
     },
     "output_type": "display_data"
    }
   ],
   "source": [
    "# coding: utf-8\n",
    "import os\n",
    "import sys\n",
    "sys.path.append(os.pardir)  # 부모 디렉터리의 파일을 가져올 수 있도록 설정\n",
    "import matplotlib.pyplot as plt\n",
    "from deep_learning_github.dataset.mnist import load_mnist\n",
    "from deep_learning_github.common.util import smooth_curve\n",
    "from deep_learning_github.common.multi_layer_net import MultiLayerNet\n",
    "from deep_learning_github.common.optimizer import *\n",
    "\n",
    "\n",
    "# 0. MNIST 데이터 읽기==========\n",
    "(x_train, t_train), (x_test, t_test) = load_mnist(normalize=True)\n",
    "\n",
    "train_size = x_train.shape[0]\n",
    "batch_size = 128\n",
    "max_iterations = 2000\n",
    "\n",
    "\n",
    "# 1. 실험용 설정==========\n",
    "optimizers = {}\n",
    "optimizers['SGD'] = SGD()\n",
    "optimizers['Momentum'] = Momentum()\n",
    "optimizers['AdaGrad'] = AdaGrad()\n",
    "optimizers['Adam'] = Adam()\n",
    "#optimizers['RMSprop'] = RMSprop()\n",
    "\n",
    "networks = {}\n",
    "train_loss = {}\n",
    "for key in optimizers.keys():\n",
    "    networks[key] = MultiLayerNet(\n",
    "        input_size=784, hidden_size_list=[100, 100, 100, 100],\n",
    "        output_size=10)\n",
    "    train_loss[key] = []    \n",
    "\n",
    "\n",
    "# 2. 훈련 시작==========\n",
    "for i in range(max_iterations):\n",
    "    batch_mask = np.random.choice(train_size, batch_size)\n",
    "    x_batch = x_train[batch_mask]\n",
    "    t_batch = t_train[batch_mask]\n",
    "    \n",
    "    for key in optimizers.keys():\n",
    "        grads = networks[key].gradient(x_batch, t_batch)\n",
    "        optimizers[key].update(networks[key].params, grads)\n",
    "    \n",
    "        loss = networks[key].loss(x_batch, t_batch)\n",
    "        train_loss[key].append(loss)\n",
    "    \n",
    "    if i % 100 == 0:\n",
    "        print( \"===========\" + \"iteration:\" + str(i) + \"===========\")\n",
    "        for key in optimizers.keys():\n",
    "            loss = networks[key].loss(x_batch, t_batch)\n",
    "            print(key + \":\" + str(loss))\n",
    "\n",
    "\n",
    "# 3. 그래프 그리기==========\n",
    "markers = {\"SGD\": \"o\", \"Momentum\": \"x\", \"AdaGrad\": \"s\", \"Adam\": \"D\"}\n",
    "x = np.arange(max_iterations)\n",
    "for key in optimizers.keys():\n",
    "    plt.plot(x, smooth_curve(train_loss[key]), marker=markers[key], markevery=100, label=key)\n",
    "plt.xlabel(\"iterations\")\n",
    "plt.ylabel(\"loss\")\n",
    "plt.ylim(0, 1)\n",
    "plt.legend()\n",
    "plt.show()\n"
   ]
  },
  {
   "cell_type": "code",
   "execution_count": null,
   "id": "8af96e19",
   "metadata": {},
   "outputs": [],
   "source": []
  },
  {
   "cell_type": "code",
   "execution_count": null,
   "id": "2cf12f79",
   "metadata": {},
   "outputs": [],
   "source": []
  },
  {
   "cell_type": "code",
   "execution_count": null,
   "id": "575b12b8",
   "metadata": {},
   "outputs": [],
   "source": []
  },
  {
   "cell_type": "code",
   "execution_count": null,
   "id": "fca82dd5",
   "metadata": {},
   "outputs": [],
   "source": []
  }
 ],
 "metadata": {
  "kernelspec": {
   "display_name": "Python 3",
   "language": "python",
   "name": "python3"
  },
  "language_info": {
   "codemirror_mode": {
    "name": "ipython",
    "version": 3
   },
   "file_extension": ".py",
   "mimetype": "text/x-python",
   "name": "python",
   "nbconvert_exporter": "python",
   "pygments_lexer": "ipython3",
   "version": "3.8.8"
  }
 },
 "nbformat": 4,
 "nbformat_minor": 5
}
