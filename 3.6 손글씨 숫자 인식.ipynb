{
 "cells": [
  {
   "cell_type": "code",
   "execution_count": 37,
   "id": "2f3d6f1d",
   "metadata": {},
   "outputs": [],
   "source": [
    "import sys, os\n",
    "sys.path.append(os.pardir) # 부모 디렉터리의 파일을 가져올 수 있도록 설정\n",
    "from deep_learning_github.dataset.mnist import load_mnist\n",
    "import numpy as np\n",
    "import pickle"
   ]
  },
  {
   "cell_type": "code",
   "execution_count": 38,
   "id": "2bc764bb",
   "metadata": {},
   "outputs": [
    {
     "name": "stdout",
     "output_type": "stream",
     "text": [
      "(60000, 784)\n",
      "(60000,)\n",
      "(10000, 784)\n",
      "(10000,)\n"
     ]
    }
   ],
   "source": [
    "(x_train, t_train), (x_test, t_test) = load_mnist(flatten=True, normalize=False)\n",
    "\n",
    "print(x_train.shape) # (60000, 784) : (훈련 이미지, 훈련 레이블)\n",
    "print(t_train.shape)\n",
    "print(x_test.shape) # (10000, 784) : (시험 이미지, 시험 레이블)\n",
    "print(t_test.shape)"
   ]
  },
  {
   "cell_type": "code",
   "execution_count": 39,
   "id": "34e0e393",
   "metadata": {},
   "outputs": [
    {
     "name": "stdout",
     "output_type": "stream",
     "text": [
      "5\n"
     ]
    }
   ],
   "source": [
    "from PIL import Image\n",
    "\n",
    "def img_show(img):\n",
    "    pil_img = Image.fromarray(np.int16(img)) # numpy로 저장된 이미지 데이터를 PIL용 데이터 객체로 변환\n",
    "    pil_img.show()\n",
    "    \n",
    "img = x_train[0]\n",
    "label = t_train[0]\n",
    "print(label)"
   ]
  },
  {
   "cell_type": "code",
   "execution_count": 40,
   "id": "e31b247c",
   "metadata": {},
   "outputs": [
    {
     "name": "stdout",
     "output_type": "stream",
     "text": [
      "(784,)\n",
      "(28, 28)\n"
     ]
    }
   ],
   "source": [
    "print(img.shape)\n",
    "img = img.reshape(28, 28)\n",
    "print(img.shape)"
   ]
  },
  {
   "cell_type": "code",
   "execution_count": 41,
   "id": "f0e7ae77",
   "metadata": {},
   "outputs": [],
   "source": [
    "img_show(img)"
   ]
  },
  {
   "cell_type": "code",
   "execution_count": 42,
   "id": "4ecd8ae4",
   "metadata": {},
   "outputs": [],
   "source": [
    "def sigmoid(x):\n",
    "    return 1 / (1 + np.exp(-x))"
   ]
  },
  {
   "cell_type": "code",
   "execution_count": 58,
   "id": "34dac659",
   "metadata": {},
   "outputs": [],
   "source": [
    "def softmax(x):\n",
    "    c = np.max(x)\n",
    "    exp_x = np.exp(x - c)\n",
    "#     exp_x = np.exp(x)\n",
    "    exp_sum_x = np.sum(np.exp(x))\n",
    "    return exp_x / exp_sum_x"
   ]
  },
  {
   "cell_type": "code",
   "execution_count": 59,
   "id": "1ceee1ff",
   "metadata": {},
   "outputs": [],
   "source": [
    "def certain_num():\n",
    "    (x_train, t_train), (x_test, t_test) = load_mnist(normalize=False, flatten=False, one_hot_label=False)\n",
    "    return x_test, t_test"
   ]
  },
  {
   "cell_type": "code",
   "execution_count": 60,
   "id": "b7819fca",
   "metadata": {},
   "outputs": [],
   "source": [
    "np.set_printoptions(threshold=784,linewidth=np.inf)"
   ]
  },
  {
   "cell_type": "code",
   "execution_count": 61,
   "id": "cb2860b3",
   "metadata": {},
   "outputs": [
    {
     "name": "stdout",
     "output_type": "stream",
     "text": [
      "[[[  0   0   0   0   0   0   0   0   0   0   0   0   0   0   0   0   0   0   0   0   0   0   0   0   0   0   0   0]\n",
      "  [  0   0   0   0   0   0   0   0   0   0   0   0   0   0   0   0   0   0   0   0   0   0   0   0   0   0   0   0]\n",
      "  [  0   0   0   0   0   0   0   0   0   0   0   0   0   0   0   0   0   0   0   0   0   0   0   0   0   0   0   0]\n",
      "  [  0   0   0   0   0   0   0   0   0   0   0   0   0   0   0   0   0   0   0   0   0   0   0   0   0   0   0   0]\n",
      "  [  0   0   0   0   0   0   0   0   0   0   0   0  11 150 253 202  31   0   0   0   0   0   0   0   0   0   0   0]\n",
      "  [  0   0   0   0   0   0   0   0   0   0   0   0  37 251 251 253 107   0   0   0   0   0   0   0   0   0   0   0]\n",
      "  [  0   0   0   0   0   0   0   0   0   0   0  21 197 251 251 253 107   0   0   0   0   0   0   0   0   0   0   0]\n",
      "  [  0   0   0   0   0   0   0   0   0   0 110 190 251 251 251 253 169 109  62   0   0   0   0   0   0   0   0   0]\n",
      "  [  0   0   0   0   0   0   0   0   0   0 253 251 251 251 251 253 251 251 220  51   0   0   0   0   0   0   0   0]\n",
      "  [  0   0   0   0   0   0   0   0   0 182 255 253 253 253 253 234 222 253 253 253   0   0   0   0   0   0   0   0]\n",
      "  [  0   0   0   0   0   0   0   0  63 221 253 251 251 251 147  77  62 128 251 251 105   0   0   0   0   0   0   0]\n",
      "  [  0   0   0   0   0   0   0  32 231 251 253 251 220 137  10   0   0  31 230 251 243 113   5   0   0   0   0   0]\n",
      "  [  0   0   0   0   0   0   0  37 251 251 253 188  20   0   0   0   0   0 109 251 253 251  35   0   0   0   0   0]\n",
      "  [  0   0   0   0   0   0   0  37 251 251 201  30   0   0   0   0   0   0  31 200 253 251  35   0   0   0   0   0]\n",
      "  [  0   0   0   0   0   0   0  37 253 253   0   0   0   0   0   0   0   0  32 202 255 253 164   0   0   0   0   0]\n",
      "  [  0   0   0   0   0   0   0 140 251 251   0   0   0   0   0   0   0   0 109 251 253 251  35   0   0   0   0   0]\n",
      "  [  0   0   0   0   0   0   0 217 251 251   0   0   0   0   0   0  21  63 231 251 253 230  30   0   0   0   0   0]\n",
      "  [  0   0   0   0   0   0   0 217 251 251   0   0   0   0   0   0 144 251 251 251 221  61   0   0   0   0   0   0]\n",
      "  [  0   0   0   0   0   0   0 217 251 251   0   0   0   0   0 182 221 251 251 251 180   0   0   0   0   0   0   0]\n",
      "  [  0   0   0   0   0   0   0 218 253 253  73  73 228 253 253 255 253 253 253 253   0   0   0   0   0   0   0   0]\n",
      "  [  0   0   0   0   0   0   0 113 251 251 253 251 251 251 251 253 251 251 251 147   0   0   0   0   0   0   0   0]\n",
      "  [  0   0   0   0   0   0   0  31 230 251 253 251 251 251 251 253 230 189  35  10   0   0   0   0   0   0   0   0]\n",
      "  [  0   0   0   0   0   0   0   0  62 142 253 251 251 251 251 253 107   0   0   0   0   0   0   0   0   0   0   0]\n",
      "  [  0   0   0   0   0   0   0   0   0   0  72 174 251 173  71  72  30   0   0   0   0   0   0   0   0   0   0   0]\n",
      "  [  0   0   0   0   0   0   0   0   0   0   0   0   0   0   0   0   0   0   0   0   0   0   0   0   0   0   0   0]\n",
      "  [  0   0   0   0   0   0   0   0   0   0   0   0   0   0   0   0   0   0   0   0   0   0   0   0   0   0   0   0]\n",
      "  [  0   0   0   0   0   0   0   0   0   0   0   0   0   0   0   0   0   0   0   0   0   0   0   0   0   0   0   0]\n",
      "  [  0   0   0   0   0   0   0   0   0   0   0   0   0   0   0   0   0   0   0   0   0   0   0   0   0   0   0   0]]]\n",
      "0\n"
     ]
    }
   ],
   "source": [
    "x, t = certain_num()\n",
    "\n",
    "print(x[3])\n",
    "print(t[3])"
   ]
  },
  {
   "cell_type": "code",
   "execution_count": 62,
   "id": "d6ea1414",
   "metadata": {},
   "outputs": [],
   "source": [
    "# normalize를 해서 softmax overflow 방지\n",
    "def get_data():\n",
    "    (x_train, t_train), (x_test, t_test) = load_mnist(normalize=True, flatten=True, one_hot_label=False)\n",
    "    return x_test, t_test"
   ]
  },
  {
   "cell_type": "code",
   "execution_count": 63,
   "id": "b48e16cd",
   "metadata": {},
   "outputs": [],
   "source": [
    "# 학습된 가중치 매개변수 읽기\n",
    "# 가중치와 편향 매개변수가 딕셔너리 변수로 저장되어 있다.\n",
    "def init_network():\n",
    "    with open(\"sample_weight.pkl\", 'rb') as f:\n",
    "        network = pickle.load(f)\n",
    "        \n",
    "        return network"
   ]
  },
  {
   "cell_type": "code",
   "execution_count": 64,
   "id": "4c0e67a2",
   "metadata": {},
   "outputs": [
    {
     "name": "stdout",
     "output_type": "stream",
     "text": [
      "{'b2': array([-0.01471108, -0.07215131, -0.00155692,  0.12199665,  0.11603302, -0.00754946,  0.04085451, -0.08496164,  0.02898045,  0.0199724 ,  0.19770803,  0.04365116, -0.06518728, -0.05226324,  0.0113163 ,  0.03049979,  0.04060355,  0.0695399 , -0.07778469,  0.0692313 , -0.09365533,  0.0548001 , -0.03843745,  0.02123107,  0.03793406, -0.02806267, -0.01818407,  0.06870425,  0.0542943 ,  0.0674368 ,  0.06264312, -0.0233236 , -0.01589135,  0.01860516,  0.01839287, -0.01568104, -0.07422207, -0.01606729, -0.02262172, -0.01007509,  0.0434415 , -0.12020151,  0.02802471, -0.07591944, -0.00533499, -0.08935217, -0.0181419 ,  0.0330689 , -0.01812706, -0.07689384, -0.02715412, -0.03847084, -0.05315471, -0.02153288,  0.06898243,  0.02431128, -0.00333816,  0.00817491,  0.03911701, -0.02924617,  0.07184725, -0.00356748,  0.02246175,  0.03987982, -0.04921926,  0.02454282,  0.05875788,  0.08505439, -0.00190306, -0.03044275, -0.06383366,  0.0470311 , -0.12005549,  0.03573952, -0.04293387,  0.03283867, -0.03347731, -0.13659105, -0.00123189,  0.00096832,  0.04590394, -0.02517798, -0.02073979,  0.02005584,  0.010629  ,  0.01902938, -0.01046924,  0.05777885,  0.04737163, -0.04362756,  0.07450858,  0.05077952,  0.06648835,  0.04064002, -0.00265163,  0.00576806, -0.09652461, -0.05131314,  0.02199687, -0.04358608], dtype=float32), 'W1': array([[-0.00741249, -0.00790439, -0.01307499, ...,  0.01978721, -0.04331266, -0.01350104],\n",
      "       [-0.01029745, -0.01616653, -0.01228376, ...,  0.01920228,  0.02809811,  0.01450908],\n",
      "       [-0.01309184, -0.00244747, -0.0177224 , ...,  0.00944778,  0.01387301,  0.03393568],\n",
      "       ...,\n",
      "       [ 0.02242565, -0.0296145 , -0.06326169, ..., -0.01012643,  0.01120969,  0.01027199],\n",
      "       [-0.00761533,  0.02028973, -0.01498873, ...,  0.02735376, -0.01229855,  0.02407041],\n",
      "       [ 0.00027915, -0.06848375,  0.00911191, ..., -0.03183098,  0.00743086, -0.04021148]], dtype=float32), 'b1': array([-0.06750315,  0.0695926 , -0.02730473,  0.02256093, -0.22001474, -0.22038847,  0.04862635,  0.13499236,  0.23342554, -0.0487357 ,  0.10170191, -0.03076038,  0.15482435,  0.05212503,  0.06017235, -0.03364862, -0.11218343, -0.26460695, -0.03323386,  0.13610415,  0.06354368,  0.04679805, -0.01621654, -0.05775835, -0.03108677,  0.10366164, -0.0845938 ,  0.11665157,  0.21852103,  0.04437255,  0.03378392, -0.01720384, -0.07383765,  0.16152057, -0.10621249, -0.01646949,  0.00913961,  0.10238428,  0.00916639, -0.0564299 , -0.10607515,  0.09892716, -0.07136887, -0.06349134,  0.12461706,  0.02242282, -0.00047972,  0.04527043, -0.15179175,  0.10716812], dtype=float32), 'W2': array([[-0.10694039,  0.01591247, -0.44349867, ...,  0.03561032,  0.14045963,  0.03964241],\n",
      "       [ 0.29911557, -0.03322235, -0.08902215, ..., -0.04722451, -0.0972147 ,  0.2950258 ],\n",
      "       [ 0.06576645,  0.6330455 ,  0.02325344, ...,  0.05046809,  0.26831996, -0.13252524],\n",
      "       ...,\n",
      "       [-0.1839421 , -0.10925075,  0.25180233, ...,  0.06017017,  0.11689074,  0.28868544],\n",
      "       [ 0.10001627,  0.0899286 , -0.03874066, ...,  0.15217757, -0.05744234, -0.00713823],\n",
      "       [-0.02220659, -0.05105179,  0.00777963, ..., -0.531206  , -0.4042084 ,  0.0090801 ]], dtype=float32), 'W3': array([[-0.42173576,  0.6894455 ,  0.08785102, ...,  0.05376743, -0.3050006 ,  0.02759847],\n",
      "       [-0.52432054, -0.14362489, -0.00442161, ...,  0.8124797 , -0.03985523,  0.8234256 ],\n",
      "       [ 0.6827999 , -0.51203734, -0.44108358, ..., -0.4064582 , -0.38759062, -0.9113743 ],\n",
      "       ...,\n",
      "       [-0.4500433 ,  0.78199965,  0.21550924, ..., -0.07627768,  0.4386565 , -0.353991  ],\n",
      "       [-0.5445076 ,  0.5376719 ,  0.27933708, ...,  0.32331148,  0.5130877 , -0.03670159],\n",
      "       [ 1.072279  , -0.3730023 , -0.3476728 , ...,  0.16093193, -0.26149052,  0.03177173]], dtype=float32), 'b3': array([-0.06023985,  0.00932628, -0.01359946,  0.02167128,  0.0107372 ,  0.06619699, -0.08397342, -0.00912251,  0.00576962,  0.0532335 ], dtype=float32)}\n"
     ]
    }
   ],
   "source": [
    "network = init_network()\n",
    "print(network)"
   ]
  },
  {
   "cell_type": "code",
   "execution_count": 91,
   "id": "2d5ba726",
   "metadata": {},
   "outputs": [],
   "source": [
    "def predict(network, x):\n",
    "    W1, W2, W3 = network['W1'], network['W2'], network['W3']\n",
    "    b1, b2, b3 = network['b1'], network['b2'], network['b3']\n",
    "    \n",
    "    a1 = np.dot(x, W1) + b1\n",
    "    z1 = sigmoid(a1)\n",
    "    a2 = np.dot(z1, W2) + b2\n",
    "    z2 = sigmoid(a2)\n",
    "    a3 = np.dot(z2, W3) + b3\n",
    "    y = softmax(a3)\n",
    "    \n",
    "    return y"
   ]
  },
  {
   "cell_type": "markdown",
   "id": "a58f1f31",
   "metadata": {},
   "source": [
    "### 추론 수행, 정확도(accuracy) 평가"
   ]
  },
  {
   "cell_type": "code",
   "execution_count": 92,
   "id": "9f594ac9",
   "metadata": {},
   "outputs": [
    {
     "name": "stdout",
     "output_type": "stream",
     "text": [
      "Accuracy:0.9352\n"
     ]
    }
   ],
   "source": [
    "x_test, t_test = get_data()\n",
    "network = init_network()\n",
    "\n",
    "accuracy_cnt = 0\n",
    "\n",
    "for i in range(len(x_test)):\n",
    "    y = predict(network, x_test[i])\n",
    "    p = np.argmax(y) # 확률이 가장 높은 원소의 인덱스를 얻는다.\n",
    "    if p == t_test[i]:\n",
    "        accuracy_cnt += 1\n",
    "        \n",
    "print(\"Accuracy:\" + str(float(accuracy_cnt)/ len(x_test)))"
   ]
  },
  {
   "cell_type": "code",
   "execution_count": null,
   "id": "b445a0c1",
   "metadata": {},
   "outputs": [],
   "source": []
  },
  {
   "cell_type": "markdown",
   "id": "c80dbc91",
   "metadata": {},
   "source": [
    "### 3.6.3 배치 처리"
   ]
  },
  {
   "cell_type": "code",
   "execution_count": 73,
   "id": "906fd9d6",
   "metadata": {},
   "outputs": [],
   "source": [
    "x_test, _ = get_data()\n",
    "network = init_network()\n",
    "W1, W2, W3 = network['W1'], network['W2'], network['W3']"
   ]
  },
  {
   "cell_type": "code",
   "execution_count": 74,
   "id": "6dc1ef0e",
   "metadata": {},
   "outputs": [
    {
     "data": {
      "text/plain": [
       "(10000, 784)"
      ]
     },
     "execution_count": 74,
     "metadata": {},
     "output_type": "execute_result"
    }
   ],
   "source": [
    "x_test.shape"
   ]
  },
  {
   "cell_type": "code",
   "execution_count": 75,
   "id": "df121d63",
   "metadata": {},
   "outputs": [
    {
     "data": {
      "text/plain": [
       "(784,)"
      ]
     },
     "execution_count": 75,
     "metadata": {},
     "output_type": "execute_result"
    }
   ],
   "source": [
    "x_test[0].shape"
   ]
  },
  {
   "cell_type": "code",
   "execution_count": 76,
   "id": "23eda79f",
   "metadata": {},
   "outputs": [
    {
     "data": {
      "text/plain": [
       "(784, 50)"
      ]
     },
     "execution_count": 76,
     "metadata": {},
     "output_type": "execute_result"
    }
   ],
   "source": [
    "W1.shape"
   ]
  },
  {
   "cell_type": "code",
   "execution_count": 77,
   "id": "e6b6a0f5",
   "metadata": {},
   "outputs": [
    {
     "data": {
      "text/plain": [
       "(50, 100)"
      ]
     },
     "execution_count": 77,
     "metadata": {},
     "output_type": "execute_result"
    }
   ],
   "source": [
    "W2.shape"
   ]
  },
  {
   "cell_type": "code",
   "execution_count": 78,
   "id": "f27efed8",
   "metadata": {},
   "outputs": [
    {
     "data": {
      "text/plain": [
       "(100, 10)"
      ]
     },
     "execution_count": 78,
     "metadata": {},
     "output_type": "execute_result"
    }
   ],
   "source": [
    "W3.shape"
   ]
  },
  {
   "cell_type": "code",
   "execution_count": 80,
   "id": "15b9bd76",
   "metadata": {},
   "outputs": [
    {
     "name": "stdout",
     "output_type": "stream",
     "text": [
      "Accuracy:0.9352\n"
     ]
    }
   ],
   "source": [
    "x_test, t_test = get_data()\n",
    "network = init_network()\n",
    "\n",
    "batch_size = 100 # 배치 크기\n",
    "accuracy_cnt = 0\n",
    "\n",
    "for i in range(0, len(x_test), batch_size):\n",
    "    x_batch = x[i:i+batch_size] # 입력 데이터 묶기\n",
    "    y_batch = predict(network, x_batch)\n",
    "    p = np.argmax(y_batch, axis = 1) # \n",
    "    accuracy_cnt += np.sum(p == t[i:i+batch_size])\n",
    "    \n",
    "\n",
    "print(\"Accuracy:\" + str(float(accuracy_cnt)/ len(x_test)))  "
   ]
  },
  {
   "cell_type": "code",
   "execution_count": null,
   "id": "7f81e303",
   "metadata": {},
   "outputs": [],
   "source": []
  },
  {
   "cell_type": "markdown",
   "id": "085d9060",
   "metadata": {},
   "source": [
    "### np.argmax( y, axis=1) : axis\n",
    "- axis \n",
    "   - 0 : 열 축을 따라 가장 높은 요소의 인덱스 찾기\n",
    "   - 1 : 행 축을 따라 가장 높은 요소의 인덱스 찾기"
   ]
  },
  {
   "cell_type": "code",
   "execution_count": 83,
   "id": "0460855f",
   "metadata": {},
   "outputs": [
    {
     "name": "stdout",
     "output_type": "stream",
     "text": [
      "(4, 3)\n",
      "[1 2 1 0]\n"
     ]
    }
   ],
   "source": [
    "x = np.array([[0.1,0.8,0.1],\n",
    "              [0.3,0.1,0.6],\n",
    "              [0.2,0.5,0.3],\n",
    "              [0.8,0.1,0.1]])\n",
    "print(x.shape)\n",
    "\n",
    "y = np.argmax(x, axis=1) # 각 행의 열에서 가장 큰 인덱스 찾기\n",
    "print(y)"
   ]
  },
  {
   "cell_type": "code",
   "execution_count": 82,
   "id": "0ab04965",
   "metadata": {},
   "outputs": [
    {
     "name": "stdout",
     "output_type": "stream",
     "text": [
      "[3 0 1]\n"
     ]
    }
   ],
   "source": [
    "y2 = np.argmax(x, axis=0) # 객 열의 행에서 가장 큰 인덱스 찾기\n",
    "print(y2)"
   ]
  },
  {
   "cell_type": "markdown",
   "id": "d6471452",
   "metadata": {},
   "source": [
    "#### == 연산자\n",
    "- numpy 배열끼리 비교하여 True / False로 구성된 bool 배열을 만든다.\n",
    "- 이 결과 배열에서 True가 몇 개인지 센다."
   ]
  },
  {
   "cell_type": "code",
   "execution_count": 84,
   "id": "f77bbc03",
   "metadata": {},
   "outputs": [
    {
     "name": "stdout",
     "output_type": "stream",
     "text": [
      "[ True  True False  True]\n",
      "3\n"
     ]
    }
   ],
   "source": [
    "y = np.array([1,2,1,0])\n",
    "t = np.array([1,2,0,0])\n",
    "print(y==t)\n",
    "print(np.sum(y==t))"
   ]
  },
  {
   "cell_type": "code",
   "execution_count": null,
   "id": "d2d00480",
   "metadata": {},
   "outputs": [],
   "source": []
  },
  {
   "cell_type": "code",
   "execution_count": null,
   "id": "8f562f68",
   "metadata": {},
   "outputs": [],
   "source": []
  },
  {
   "cell_type": "code",
   "execution_count": null,
   "id": "61470cc6",
   "metadata": {},
   "outputs": [],
   "source": []
  },
  {
   "cell_type": "code",
   "execution_count": null,
   "id": "2a8c9de9",
   "metadata": {},
   "outputs": [],
   "source": []
  },
  {
   "cell_type": "code",
   "execution_count": null,
   "id": "67117157",
   "metadata": {},
   "outputs": [],
   "source": []
  }
 ],
 "metadata": {
  "kernelspec": {
   "display_name": "Python 3",
   "language": "python",
   "name": "python3"
  },
  "language_info": {
   "codemirror_mode": {
    "name": "ipython",
    "version": 3
   },
   "file_extension": ".py",
   "mimetype": "text/x-python",
   "name": "python",
   "nbconvert_exporter": "python",
   "pygments_lexer": "ipython3",
   "version": "3.8.8"
  }
 },
 "nbformat": 4,
 "nbformat_minor": 5
}
