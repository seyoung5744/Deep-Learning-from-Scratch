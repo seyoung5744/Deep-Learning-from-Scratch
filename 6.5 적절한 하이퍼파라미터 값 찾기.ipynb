{
 "cells": [
  {
   "cell_type": "markdown",
   "id": "3d01dbd7",
   "metadata": {},
   "source": [
    "# 6.5.1 검증 데이터\n",
    "- 훈련 데이터 : 매개변수 학습\n",
    "- 검증 데이터 : 하이퍼 파라미터 성능 평가\n",
    "- 시험 데이터 : 신경망의 범용 성능 평가"
   ]
  },
  {
   "cell_type": "code",
   "execution_count": 10,
   "id": "c4c96369",
   "metadata": {},
   "outputs": [
    {
     "name": "stdout",
     "output_type": "stream",
     "text": [
      "60000\n",
      "2\n",
      "[[0. 0. 0. ... 0. 0. 0.]\n",
      " [0. 0. 0. ... 0. 0. 0.]\n",
      " [0. 0. 0. ... 0. 0. 0.]\n",
      " ...\n",
      " [0. 0. 0. ... 0. 0. 0.]\n",
      " [0. 0. 0. ... 0. 0. 0.]\n",
      " [0. 0. 0. ... 0. 0. 0.]]\n",
      "12000\n",
      "[[0. 0. 0. ... 0. 0. 0.]\n",
      " [0. 0. 0. ... 0. 0. 0.]\n",
      " [0. 0. 0. ... 0. 0. 0.]\n",
      " ...\n",
      " [0. 0. 0. ... 0. 0. 0.]\n",
      " [0. 0. 0. ... 0. 0. 0.]\n",
      " [0. 0. 0. ... 0. 0. 0.]]\n"
     ]
    }
   ],
   "source": [
    "# coding: utf-8\n",
    "import os\n",
    "import sys\n",
    "\n",
    "sys.path.append(os.pardir)  # 부모 디렉터리의 파일을 가져올 수 있도록 설정\n",
    "import numpy as np\n",
    "import matplotlib.pyplot as plt\n",
    "from deep_learning_github.dataset.mnist import load_mnist\n",
    "from deep_learning_github.common.multi_layer_net import MultiLayerNet\n",
    "from deep_learning_github.common.optimizer import SGD\n",
    "from deep_learning_github.common.util import * \n",
    "\n",
    "(x_train, t_train), (x_test, t_test) = load_mnist(normalize=True)\n",
    "\n",
    "print(x_train.shape[0])\n",
    "print(x_train.ndim)\n",
    "print(x_train)\n",
    "\n",
    "# 훈련 데이터를 뒤섞는다.\n",
    "x_train, t_train = shuffle_dataset(x_train, t_train)\n",
    "\n",
    "validation_rate = 0.2\n",
    "validation_num = int(x_train.shape[0] * validation_rate)\n",
    "\n",
    "print(validation_num)\n",
    "x_val = x_train[: validation_num]\n",
    "t_val = t_train[: validation_num]\n",
    "x_train = x_train[validation_num: ]\n",
    "t_train = t_train[validation_num: ]"
   ]
  },
  {
   "cell_type": "code",
   "execution_count": 2,
   "id": "401a21d6",
   "metadata": {},
   "outputs": [
    {
     "data": {
      "text/plain": [
       "array([37428,  9521, 38305, ..., 13490, 17436, 45607])"
      ]
     },
     "execution_count": 2,
     "metadata": {},
     "output_type": "execute_result"
    }
   ],
   "source": [
    "permutation = np.random.permutation(x_train.shape[0])\n",
    "permutation"
   ]
  },
  {
   "cell_type": "code",
   "execution_count": 3,
   "id": "297b6b95",
   "metadata": {},
   "outputs": [
    {
     "data": {
      "text/plain": [
       "2"
      ]
     },
     "execution_count": 3,
     "metadata": {},
     "output_type": "execute_result"
    }
   ],
   "source": [
    "x = np.array([[1,2],[3,4]])\n",
    "x.ndim"
   ]
  },
  {
   "cell_type": "code",
   "execution_count": 4,
   "id": "1770bcfe",
   "metadata": {},
   "outputs": [
    {
     "ename": "IndexError",
     "evalue": "too many indices for array: array is 3-dimensional, but 4 were indexed",
     "output_type": "error",
     "traceback": [
      "\u001b[1;31m---------------------------------------------------------------------------\u001b[0m",
      "\u001b[1;31mIndexError\u001b[0m                                Traceback (most recent call last)",
      "\u001b[1;32m<ipython-input-4-d080b0c0edf0>\u001b[0m in \u001b[0;36m<module>\u001b[1;34m\u001b[0m\n\u001b[0;32m      1\u001b[0m \u001b[0mx\u001b[0m \u001b[1;33m=\u001b[0m \u001b[0mnp\u001b[0m\u001b[1;33m.\u001b[0m\u001b[0marray\u001b[0m\u001b[1;33m(\u001b[0m\u001b[1;33m[\u001b[0m\u001b[1;33m[\u001b[0m\u001b[1;33m[\u001b[0m\u001b[1;36m1\u001b[0m\u001b[1;33m,\u001b[0m\u001b[1;36m2\u001b[0m\u001b[1;33m]\u001b[0m\u001b[1;33m,\u001b[0m\u001b[1;33m[\u001b[0m\u001b[1;36m3\u001b[0m\u001b[1;33m,\u001b[0m\u001b[1;36m4\u001b[0m\u001b[1;33m]\u001b[0m\u001b[1;33m]\u001b[0m\u001b[1;33m]\u001b[0m\u001b[1;33m)\u001b[0m\u001b[1;33m\u001b[0m\u001b[1;33m\u001b[0m\u001b[0m\n\u001b[0;32m      2\u001b[0m \u001b[0mx\u001b[0m\u001b[1;33m.\u001b[0m\u001b[0mndim\u001b[0m\u001b[1;33m\u001b[0m\u001b[1;33m\u001b[0m\u001b[0m\n\u001b[1;32m----> 3\u001b[1;33m \u001b[0mx\u001b[0m\u001b[1;33m[\u001b[0m\u001b[1;36m0\u001b[0m\u001b[1;33m,\u001b[0m\u001b[1;33m:\u001b[0m\u001b[1;33m,\u001b[0m\u001b[1;33m:\u001b[0m\u001b[1;33m,\u001b[0m\u001b[1;33m:\u001b[0m\u001b[1;33m]\u001b[0m\u001b[1;33m\u001b[0m\u001b[1;33m\u001b[0m\u001b[0m\n\u001b[0m",
      "\u001b[1;31mIndexError\u001b[0m: too many indices for array: array is 3-dimensional, but 4 were indexed"
     ]
    }
   ],
   "source": [
    "x = np.array([[[1,2],[3,4]]])\n",
    "x.ndim\n",
    "x[0,:,:,:]"
   ]
  },
  {
   "cell_type": "code",
   "execution_count": null,
   "id": "2f3a346c",
   "metadata": {},
   "outputs": [],
   "source": []
  },
  {
   "cell_type": "code",
   "execution_count": 5,
   "id": "99dd390e",
   "metadata": {},
   "outputs": [
    {
     "name": "stdout",
     "output_type": "stream",
     "text": [
      "60000\n"
     ]
    }
   ],
   "source": [
    "x = x_train[permutation, :]\n",
    "print(len(x))"
   ]
  },
  {
   "cell_type": "code",
   "execution_count": 33,
   "id": "8a791540",
   "metadata": {},
   "outputs": [
    {
     "data": {
      "text/plain": [
       "1.4005807146917924e-08"
      ]
     },
     "execution_count": 33,
     "metadata": {},
     "output_type": "execute_result"
    }
   ],
   "source": [
    "weight_decay = 10 ** np.random.uniform(-8, -4)\n",
    "weight_decay"
   ]
  },
  {
   "cell_type": "markdown",
   "id": "e9b23855",
   "metadata": {},
   "source": [
    "# 6.5.3 하이퍼파라미터 최적화 구현하기"
   ]
  },
  {
   "cell_type": "code",
   "execution_count": 34,
   "id": "0a90f17d",
   "metadata": {},
   "outputs": [
    {
     "name": "stdout",
     "output_type": "stream",
     "text": [
      "val acc:0.08 | lr:0.0002257994803480783, weight decay:2.2678166306685903e-06\n",
      "val acc:0.13 | lr:0.0003124442928532459, weight decay:2.4860377859995215e-06\n",
      "val acc:0.02 | lr:1.101934233521026e-06, weight decay:4.9473683109146004e-08\n",
      "val acc:0.11 | lr:9.494322648626337e-05, weight decay:3.307036165743561e-07\n",
      "val acc:0.1 | lr:0.00047273937678192225, weight decay:3.012012922603584e-08\n",
      "val acc:0.06 | lr:6.248337185037501e-06, weight decay:8.10660812544481e-06\n",
      "val acc:0.44 | lr:0.0015727068793763182, weight decay:8.114114090976169e-06\n",
      "val acc:0.03 | lr:3.383995827249713e-06, weight decay:1.0813938214757971e-08\n",
      "val acc:0.13 | lr:1.8466245723717614e-05, weight decay:1.0947812110963767e-07\n",
      "val acc:0.21 | lr:0.00106993675473246, weight decay:5.5273819899342725e-08\n",
      "val acc:0.05 | lr:0.00021987082522035518, weight decay:3.924566979734882e-06\n",
      "val acc:0.15 | lr:1.870913489113125e-05, weight decay:2.1179757087137684e-07\n",
      "val acc:0.4 | lr:0.0029714959675436908, weight decay:2.4862926441219226e-06\n",
      "val acc:0.61 | lr:0.00579178581591714, weight decay:9.297848101888212e-07\n",
      "val acc:0.14 | lr:6.815452696041987e-06, weight decay:1.573173783182634e-08\n",
      "val acc:0.12 | lr:8.564153347007655e-06, weight decay:2.393901931825386e-07\n",
      "val acc:0.15 | lr:9.126832038641485e-05, weight decay:7.585661491875348e-08\n",
      "val acc:0.07 | lr:6.196648689727584e-05, weight decay:5.147902223084094e-08\n",
      "val acc:0.13 | lr:3.247012561136168e-05, weight decay:1.3643386505411475e-05\n",
      "val acc:0.12 | lr:1.6651990931158923e-05, weight decay:1.477055288287808e-07\n",
      "val acc:0.06 | lr:1.2268050579090136e-06, weight decay:1.1876600599331967e-08\n",
      "val acc:0.15 | lr:0.0001146173738823868, weight decay:1.5620997430174024e-08\n",
      "val acc:0.12 | lr:7.3267728910847515e-06, weight decay:6.267225794120376e-07\n",
      "val acc:0.08 | lr:3.095083970592969e-06, weight decay:3.814450063193091e-07\n",
      "val acc:0.8 | lr:0.00840008226860551, weight decay:1.4240254056658577e-06\n",
      "val acc:0.73 | lr:0.008567472400410411, weight decay:1.9160434589613424e-06\n",
      "val acc:0.08 | lr:0.00014833366134543312, weight decay:1.549361780465955e-08\n",
      "val acc:0.34 | lr:0.0015045496885613997, weight decay:5.8805948948592516e-08\n",
      "val acc:0.11 | lr:3.591999843812555e-05, weight decay:3.482987265666562e-07\n",
      "val acc:0.09 | lr:1.701064511795184e-05, weight decay:1.3954946337149154e-06\n",
      "val acc:0.12 | lr:0.00030552896369642697, weight decay:2.5334936512005633e-07\n",
      "val acc:0.12 | lr:1.609063192844125e-06, weight decay:5.632035752194376e-07\n",
      "val acc:0.43 | lr:0.003670282212049171, weight decay:8.530050656059978e-08\n",
      "val acc:0.08 | lr:4.310707130505099e-05, weight decay:1.6447413648474218e-08\n",
      "val acc:0.05 | lr:0.00015199808023986407, weight decay:7.3641041587511145e-06\n",
      "val acc:0.08 | lr:5.92734391520585e-06, weight decay:4.206738144873758e-05\n",
      "val acc:0.19 | lr:0.00045146248459129604, weight decay:3.331058979058276e-05\n",
      "val acc:0.1 | lr:0.00014520330347372743, weight decay:2.167286342185879e-08\n",
      "val acc:0.08 | lr:0.0005954693548990881, weight decay:2.154940431807929e-08\n",
      "val acc:0.14 | lr:8.407049001428292e-06, weight decay:5.9276306842460064e-05\n",
      "val acc:0.12 | lr:1.3076129558218483e-05, weight decay:6.219448798450955e-06\n",
      "val acc:0.75 | lr:0.006009875802680701, weight decay:1.658283702632435e-05\n",
      "val acc:0.11 | lr:0.0004434482347973688, weight decay:6.071729477552536e-08\n",
      "val acc:0.11 | lr:0.00034273874930642256, weight decay:3.1266634047992093e-06\n",
      "val acc:0.12 | lr:2.919588926920412e-05, weight decay:2.7735509482908605e-06\n",
      "val acc:0.31 | lr:0.0016444362662359478, weight decay:2.798294486265663e-05\n",
      "val acc:0.07 | lr:2.7585036904317487e-05, weight decay:7.3533038327014855e-06\n",
      "val acc:0.07 | lr:1.398829081369986e-06, weight decay:5.406678564330057e-08\n",
      "val acc:0.17 | lr:0.0006365781135512966, weight decay:3.878149168597464e-07\n",
      "val acc:0.07 | lr:0.0002046054200264541, weight decay:4.967867947267354e-07\n",
      "val acc:0.13 | lr:1.7186608537141875e-05, weight decay:2.749789005856681e-07\n",
      "val acc:0.1 | lr:9.274568330291973e-06, weight decay:4.336467298782702e-05\n",
      "val acc:0.4 | lr:0.0027675861670777456, weight decay:3.8626126169781426e-07\n",
      "val acc:0.04 | lr:1.256173345346623e-05, weight decay:1.3379938077710086e-06\n",
      "val acc:0.36 | lr:0.0021869311000310403, weight decay:2.5843205887279383e-05\n",
      "val acc:0.17 | lr:0.00028414371257599045, weight decay:1.0457702074839852e-07\n",
      "val acc:0.16 | lr:3.131018244931211e-06, weight decay:2.590032837178508e-06\n",
      "val acc:0.07 | lr:1.847641843312369e-06, weight decay:6.89611798798725e-07\n",
      "val acc:0.12 | lr:2.127781366189141e-06, weight decay:1.5368282662188133e-08\n",
      "val acc:0.1 | lr:1.8006930033270224e-06, weight decay:1.8560276128359356e-05\n",
      "val acc:0.06 | lr:0.0002239465153828613, weight decay:1.4745511308292438e-08\n",
      "val acc:0.13 | lr:3.870440344079146e-05, weight decay:1.1351722069635995e-08\n",
      "val acc:0.11 | lr:5.837282920980118e-05, weight decay:4.079200062950434e-08\n",
      "val acc:0.03 | lr:5.938462895671341e-06, weight decay:9.702035858245908e-07\n",
      "val acc:0.1 | lr:2.887105034166094e-05, weight decay:9.596882428635594e-05\n",
      "val acc:0.03 | lr:3.441356132469617e-06, weight decay:1.1287607643708444e-05\n",
      "val acc:0.12 | lr:1.1939561887421506e-05, weight decay:3.356940311318929e-05\n",
      "val acc:0.17 | lr:1.5931114188995962e-06, weight decay:2.603728345230586e-06\n",
      "val acc:0.58 | lr:0.00325753350830476, weight decay:4.4265952225283684e-08\n",
      "val acc:0.1 | lr:1.789535135083923e-05, weight decay:3.24940042863017e-06\n",
      "val acc:0.05 | lr:5.987076639137796e-05, weight decay:2.075670368675567e-06\n",
      "val acc:0.55 | lr:0.00428655959621789, weight decay:6.807235511606453e-07\n",
      "val acc:0.77 | lr:0.00762757282300756, weight decay:6.510371628330328e-06\n",
      "val acc:0.03 | lr:2.719286339000928e-05, weight decay:1.2699187527242334e-08\n",
      "val acc:0.7 | lr:0.0056770294113315314, weight decay:3.767199516778401e-07\n",
      "val acc:0.06 | lr:2.3916591057976836e-06, weight decay:1.2494602143471861e-08\n",
      "val acc:0.02 | lr:5.511501503089457e-06, weight decay:6.060336893738648e-06\n",
      "val acc:0.27 | lr:0.002117688394419016, weight decay:3.60781856828849e-05\n",
      "val acc:0.2 | lr:6.359471040229798e-06, weight decay:1.841427636602988e-07\n",
      "val acc:0.16 | lr:0.0003323770912135644, weight decay:4.593250688550776e-06\n",
      "val acc:0.19 | lr:0.0007871479391355941, weight decay:2.9627740848286194e-05\n",
      "val acc:0.08 | lr:1.214420508674947e-06, weight decay:8.928665418491818e-05\n",
      "val acc:0.08 | lr:2.64868174995684e-05, weight decay:8.633146725891587e-06\n",
      "val acc:0.13 | lr:6.355740306751667e-05, weight decay:2.4221565105907422e-06\n",
      "val acc:0.57 | lr:0.005036633720740392, weight decay:2.61509987954072e-08\n",
      "val acc:0.07 | lr:2.080922204233621e-06, weight decay:5.309840162428838e-05\n",
      "val acc:0.13 | lr:0.0008036312797356204, weight decay:1.4629371788941788e-06\n",
      "val acc:0.0 | lr:2.740525786238536e-05, weight decay:3.1382062475390895e-07\n",
      "val acc:0.1 | lr:2.374423501903573e-06, weight decay:3.5405600846504545e-06\n",
      "val acc:0.08 | lr:0.00010626739321247077, weight decay:9.055019064823958e-08\n",
      "val acc:0.16 | lr:1.5932099771041905e-06, weight decay:1.6328070351575317e-08\n",
      "val acc:0.09 | lr:1.2689365743183696e-06, weight decay:1.640290675912771e-06\n",
      "val acc:0.14 | lr:5.054043416158712e-05, weight decay:5.995795593525783e-08\n",
      "val acc:0.1 | lr:6.639490991140674e-06, weight decay:1.5563050883498778e-07\n",
      "val acc:0.25 | lr:0.0009153845051583338, weight decay:3.7816264637263204e-07\n",
      "val acc:0.59 | lr:0.004296912767673298, weight decay:2.2973652388300718e-08\n",
      "val acc:0.25 | lr:0.00018454428464503568, weight decay:5.15595924849186e-08\n",
      "val acc:0.1 | lr:0.000263494805475489, weight decay:2.605546760590049e-06\n",
      "val acc:0.23 | lr:0.0009175826747142145, weight decay:1.533715331517578e-08\n",
      "val acc:0.02 | lr:3.1003449428445016e-06, weight decay:9.677321960741536e-05\n",
      "=========== Hyper-Parameter Optimization Result ===========\n",
      "Best-1(val acc:0.8) | lr:0.00840008226860551, weight decay:1.4240254056658577e-06\n",
      "Best-2(val acc:0.77) | lr:0.00762757282300756, weight decay:6.510371628330328e-06\n",
      "Best-3(val acc:0.75) | lr:0.006009875802680701, weight decay:1.658283702632435e-05\n",
      "Best-4(val acc:0.73) | lr:0.008567472400410411, weight decay:1.9160434589613424e-06\n",
      "Best-5(val acc:0.7) | lr:0.0056770294113315314, weight decay:3.767199516778401e-07\n",
      "Best-6(val acc:0.61) | lr:0.00579178581591714, weight decay:9.297848101888212e-07\n",
      "Best-7(val acc:0.59) | lr:0.004296912767673298, weight decay:2.2973652388300718e-08\n",
      "Best-8(val acc:0.58) | lr:0.00325753350830476, weight decay:4.4265952225283684e-08\n",
      "Best-9(val acc:0.57) | lr:0.005036633720740392, weight decay:2.61509987954072e-08\n",
      "Best-10(val acc:0.55) | lr:0.00428655959621789, weight decay:6.807235511606453e-07\n",
      "Best-11(val acc:0.44) | lr:0.0015727068793763182, weight decay:8.114114090976169e-06\n",
      "Best-12(val acc:0.43) | lr:0.003670282212049171, weight decay:8.530050656059978e-08\n",
      "Best-13(val acc:0.4) | lr:0.0029714959675436908, weight decay:2.4862926441219226e-06\n",
      "Best-14(val acc:0.4) | lr:0.0027675861670777456, weight decay:3.8626126169781426e-07\n",
      "Best-15(val acc:0.36) | lr:0.0021869311000310403, weight decay:2.5843205887279383e-05\n",
      "Best-16(val acc:0.34) | lr:0.0015045496885613997, weight decay:5.8805948948592516e-08\n",
      "Best-17(val acc:0.31) | lr:0.0016444362662359478, weight decay:2.798294486265663e-05\n"
     ]
    },
    {
     "name": "stdout",
     "output_type": "stream",
     "text": [
      "Best-18(val acc:0.27) | lr:0.002117688394419016, weight decay:3.60781856828849e-05\n",
      "Best-19(val acc:0.25) | lr:0.0009153845051583338, weight decay:3.7816264637263204e-07\n",
      "Best-20(val acc:0.25) | lr:0.00018454428464503568, weight decay:5.15595924849186e-08\n"
     ]
    },
    {
     "data": {
      "image/png": "[encoded data removed]",
      "text/plain": [
       "<Figure size 432x288 with 20 Axes>"
      ]
     },
     "metadata": {
      "needs_background": "light"
     },
     "output_type": "display_data"
    }
   ],
   "source": [
    "# coding: utf-8\n",
    "import sys, os\n",
    "sys.path.append(os.pardir)  # 부모 디렉터리의 파일을 가져올 수 있도록 설정\n",
    "import numpy as np\n",
    "import matplotlib.pyplot as plt\n",
    "from deep_learning_github.dataset.mnist import load_mnist\n",
    "from deep_learning_github.common.multi_layer_net import MultiLayerNet\n",
    "from deep_learning_github.common.util import shuffle_dataset\n",
    "from deep_learning_github.common.trainer import Trainer\n",
    "\n",
    "(x_train, t_train), (x_test, t_test) = load_mnist(normalize=True)\n",
    "\n",
    "# 결과를 빠르게 얻기 위해 훈련 데이터를 줄임\n",
    "x_train = x_train[:500]\n",
    "t_train = t_train[:500]\n",
    "\n",
    "# 20%를 검증 데이터로 분할\n",
    "validation_rate = 0.20\n",
    "validation_num = int(x_train.shape[0] * validation_rate)\n",
    "x_train, t_train = shuffle_dataset(x_train, t_train)\n",
    "x_val = x_train[:validation_num]\n",
    "t_val = t_train[:validation_num]\n",
    "x_train = x_train[validation_num:]\n",
    "t_train = t_train[validation_num:]\n",
    "\n",
    "\n",
    "def __train(lr, weight_decay, epocs=50):\n",
    "    network = MultiLayerNet(input_size=784, hidden_size_list=[100, 100, 100, 100, 100, 100],\n",
    "                            output_size=10, weight_decay_lambda=weight_decay)\n",
    "    trainer = Trainer(network, x_train, t_train, x_val, t_val,\n",
    "                      epochs=epocs, mini_batch_size=100,\n",
    "                      optimizer='sgd', optimizer_param={'lr': lr}, verbose=False)\n",
    "    trainer.train()\n",
    "\n",
    "    return trainer.test_acc_list, trainer.train_acc_list\n",
    "\n",
    "\n",
    "# 하이퍼파라미터 무작위 탐색======================================\n",
    "optimization_trial = 100\n",
    "results_val = {}\n",
    "results_train = {}\n",
    "for _ in range(optimization_trial):\n",
    "    # 탐색한 하이퍼파라미터의 범위 지정===============\n",
    "    weight_decay = 10 ** np.random.uniform(-8, -4)\n",
    "    lr = 10 ** np.random.uniform(-6, -2)\n",
    "    # ================================================\n",
    "\n",
    "    val_acc_list, train_acc_list = __train(lr, weight_decay)\n",
    "    print(\"val acc:\" + str(val_acc_list[-1]) + \" | lr:\" + str(lr) + \", weight decay:\" + str(weight_decay))\n",
    "    key = \"lr:\" + str(lr) + \", weight decay:\" + str(weight_decay)\n",
    "    results_val[key] = val_acc_list\n",
    "    results_train[key] = train_acc_list\n",
    "\n",
    "# 그래프 그리기========================================================\n",
    "print(\"=========== Hyper-Parameter Optimization Result ===========\")\n",
    "graph_draw_num = 20\n",
    "col_num = 5\n",
    "row_num = int(np.ceil(graph_draw_num / col_num))\n",
    "i = 0\n",
    "\n",
    "for key, val_acc_list in sorted(results_val.items(), key=lambda x:x[1][-1], reverse=True):\n",
    "    print(\"Best-\" + str(i+1) + \"(val acc:\" + str(val_acc_list[-1]) + \") | \" + key)\n",
    "\n",
    "    plt.subplot(row_num, col_num, i+1)\n",
    "    plt.title(\"Best-\" + str(i+1))\n",
    "    plt.ylim(0.0, 1.0)\n",
    "    if i % 5: plt.yticks([])\n",
    "    plt.xticks([])\n",
    "    x = np.arange(len(val_acc_list))\n",
    "    plt.plot(x, val_acc_list)\n",
    "    plt.plot(x, results_train[key], \"--\")\n",
    "    i += 1\n",
    "\n",
    "    if i >= graph_draw_num:\n",
    "        break\n",
    "\n",
    "plt.show()\n"
   ]
  }
 ],
 "metadata": {
  "kernelspec": {
   "display_name": "Python 3",
   "language": "python",
   "name": "python3"
  },
  "language_info": {
   "codemirror_mode": {
    "name": "ipython",
    "version": 3
   },
   "file_extension": ".py",
   "mimetype": "text/x-python",
   "name": "python",
   "nbconvert_exporter": "python",
   "pygments_lexer": "ipython3",
   "version": "3.8.8"
  }
 },
 "nbformat": 4,
 "nbformat_minor": 5
}
