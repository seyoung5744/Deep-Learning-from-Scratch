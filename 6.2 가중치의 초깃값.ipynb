{
 "cells": [
  {
   "cell_type": "markdown",
   "id": "08636166",
   "metadata": {},
   "source": [
    "# 6.2.2 은닉층의 활성화값 분포"
   ]
  },
  {
   "cell_type": "code",
   "execution_count": 36,
   "id": "0b3f03e4",
   "metadata": {},
   "outputs": [
    {
     "data": {
      "image/png": "[encoded data removed]",
      "text/plain": [
       "<Figure size 432x288 with 5 Axes>"
      ]
     },
     "metadata": {
      "needs_background": "light"
     },
     "output_type": "display_data"
    }
   ],
   "source": [
    "# coding: utf-8\n",
    "import numpy as np\n",
    "import matplotlib.pyplot as plt\n",
    "\n",
    "\n",
    "def sigmoid(x):\n",
    "    return 1 / (1 + np.exp(-x))\n",
    "\n",
    "\n",
    "def ReLU(x):\n",
    "    return np.maximum(0, x)\n",
    "\n",
    "\n",
    "def tanh(x):\n",
    "    return np.tanh(x)\n",
    "    \n",
    "input_data = np.random.randn(1000, 100)  # 1000개의 데이터\n",
    "node_num = 100  # 각 은닉층의 노드(뉴런) 수\n",
    "hidden_layer_size = 5  # 은닉층이 5개\n",
    "activations = {}  # 이곳에 활성화 결과를 저장\n",
    "\n",
    "x = input_data\n",
    "\n",
    "for i in range(hidden_layer_size):\n",
    "    if i != 0:\n",
    "        x = activations[i-1]\n",
    "\n",
    "    # 초깃값을 다양하게 바꿔가며 실험해보자！\n",
    "#     w = np.random.randn(node_num, node_num) * 1\n",
    "#     w = np.random.randn(node_num, node_num) * 0.01\n",
    "    w = np.random.randn(node_num, node_num) / np.sqrt(node_num)\n",
    "#     w = np.random.randn(node_num, node_num) * np.sqrt(1.0 / node_num)\n",
    "#     w = np.random.randn(node_num, node_num) * np.sqrt(2.0 / node_num)\n",
    "\n",
    "    a = np.dot(x, w)\n",
    " \n",
    "\n",
    "    # 활성화 함수도 바꿔가며 실험해보자！\n",
    "#     z = sigmoid(a)\n",
    "    # z = ReLU(a)\n",
    "    z = tanh(a)\n",
    "\n",
    "    activations[i] = z\n",
    "\n",
    "# 히스토그램 그리기\n",
    "for i, a in activations.items():\n",
    "    plt.subplot(1, len(activations), i+1)\n",
    "    plt.title(str(i+1) + \"-layer\")\n",
    "    if i != 0: plt.yticks([], [])\n",
    "    # plt.xlim(0.1, 1)\n",
    "    # plt.ylim(0, 7000)\n",
    "    plt.hist(a.flatten(), 30, range=(0,1))\n",
    "plt.show()\n"
   ]
  },
  {
   "cell_type": "code",
   "execution_count": 3,
   "id": "0f5861be",
   "metadata": {},
   "outputs": [
    {
     "name": "stdout",
     "output_type": "stream",
     "text": [
      "1\n",
      "2\n",
      "3\n",
      "4\n"
     ]
    }
   ],
   "source": [
    "for i in range(5):\n",
    "    if i != 0:\n",
    "        print(i)"
   ]
  },
  {
   "cell_type": "code",
   "execution_count": 4,
   "id": "0c300cd4",
   "metadata": {},
   "outputs": [
    {
     "data": {
      "text/plain": [
       "array([[-0.13180734, -0.52305146,  0.5357923 , ...,  0.01063418,\n",
       "         0.78041659,  0.1207514 ],\n",
       "       [ 0.58551813,  1.85897209,  0.4396816 , ...,  0.53460231,\n",
       "        -1.45222437, -0.32942313],\n",
       "       [ 1.46021211, -0.95283711, -0.16256461, ..., -1.48038659,\n",
       "        -0.09507218,  0.24346473],\n",
       "       ...,\n",
       "       [-1.48166813,  0.48738646, -0.90937893, ...,  0.14392997,\n",
       "         0.35847147,  0.90766433],\n",
       "       [ 0.44428099, -0.14923943, -2.00326803, ..., -0.67217619,\n",
       "         1.64833664,  0.87706341],\n",
       "       [ 2.54097728, -0.92163697, -1.17479467, ...,  1.26526834,\n",
       "         0.30312258,  1.54004354]])"
      ]
     },
     "execution_count": 4,
     "metadata": {},
     "output_type": "execute_result"
    }
   ],
   "source": [
    "np.random.randn(100,100) * 1"
   ]
  },
  {
   "cell_type": "markdown",
   "id": "189e4c47",
   "metadata": {},
   "source": [
    "# 6.2.4 MNIST 데이터셋으로 본 가중치 초깃값 비교"
   ]
  },
  {
   "cell_type": "code",
   "execution_count": 37,
   "id": "6d5a7cc6",
   "metadata": {},
   "outputs": [
    {
     "name": "stdout",
     "output_type": "stream",
     "text": [
      "===========iteration:0===========\n",
      "std=0.01:2.3024790452373205\n",
      "Xavier:2.3071112246717247\n",
      "He:2.3679712174743326\n",
      "===========iteration:100===========\n",
      "std=0.01:2.302686392108326\n",
      "Xavier:2.267400038207509\n",
      "He:1.4521344459215442\n",
      "===========iteration:200===========\n",
      "std=0.01:2.301788986380021\n",
      "Xavier:2.1396470642538326\n",
      "He:0.6610129683086442\n",
      "===========iteration:300===========\n",
      "std=0.01:2.3037313312459133\n",
      "Xavier:1.969949471563014\n",
      "He:0.5458315111016662\n",
      "===========iteration:400===========\n",
      "std=0.01:2.2980719651984707\n",
      "Xavier:1.4397203727316028\n",
      "He:0.5379701399108627\n",
      "===========iteration:500===========\n",
      "std=0.01:2.2972378907847357\n",
      "Xavier:0.9381770242851067\n",
      "He:0.2997306050132704\n",
      "===========iteration:600===========\n",
      "std=0.01:2.298670094843417\n",
      "Xavier:0.6547984005103327\n",
      "He:0.23857150271009722\n",
      "===========iteration:700===========\n",
      "std=0.01:2.3017552773683505\n",
      "Xavier:0.5683353938082533\n",
      "He:0.26527982400142375\n",
      "===========iteration:800===========\n",
      "std=0.01:2.30123871875361\n",
      "Xavier:0.5093072344202831\n",
      "He:0.2141995444449511\n",
      "===========iteration:900===========\n",
      "std=0.01:2.3010226676476084\n",
      "Xavier:0.4524798818022959\n",
      "He:0.2000071136567929\n",
      "===========iteration:1000===========\n",
      "std=0.01:2.3052630640599174\n",
      "Xavier:0.4262876466266582\n",
      "He:0.2637961806651651\n",
      "===========iteration:1100===========\n",
      "std=0.01:2.3047839406733446\n",
      "Xavier:0.46460674735229984\n",
      "He:0.2545251914640701\n",
      "===========iteration:1200===========\n",
      "std=0.01:2.3008522948627577\n",
      "Xavier:0.45738539085738117\n",
      "He:0.24034160420373946\n",
      "===========iteration:1300===========\n",
      "std=0.01:2.297364359414851\n",
      "Xavier:0.309439326254352\n",
      "He:0.19660558837440556\n",
      "===========iteration:1400===========\n",
      "std=0.01:2.300282042007858\n",
      "Xavier:0.377930675513341\n",
      "He:0.2118118720268733\n",
      "===========iteration:1500===========\n",
      "std=0.01:2.2944091052340143\n",
      "Xavier:0.2577872094026822\n",
      "He:0.12467523958616358\n",
      "===========iteration:1600===========\n",
      "std=0.01:2.3052274633000422\n",
      "Xavier:0.2768631604333891\n",
      "He:0.12600655615383088\n",
      "===========iteration:1700===========\n",
      "std=0.01:2.305424859668677\n",
      "Xavier:0.36494756022219726\n",
      "He:0.1780005010585365\n",
      "===========iteration:1800===========\n",
      "std=0.01:2.2999770324147493\n",
      "Xavier:0.38174527638567113\n",
      "He:0.2548417594676555\n",
      "===========iteration:1900===========\n",
      "std=0.01:2.3003590676995804\n",
      "Xavier:0.28512026747068553\n",
      "He:0.1901451500311154\n"
     ]
    },
    {
     "data": {
      "image/png": "[encoded data removed]",
      "text/plain": [
       "<Figure size 432x288 with 1 Axes>"
      ]
     },
     "metadata": {
      "needs_background": "light"
     },
     "output_type": "display_data"
    }
   ],
   "source": [
    "# coding: utf-8\n",
    "import os\n",
    "import sys\n",
    "\n",
    "sys.path.append(os.pardir)  # 부모 디렉터리의 파일을 가져올 수 있도록 설정\n",
    "import numpy as np\n",
    "import matplotlib.pyplot as plt\n",
    "from deep_learning_github.dataset.mnist import load_mnist\n",
    "from deep_learning_github.common.util import smooth_curve\n",
    "from deep_learning_github.common.multi_layer_net import MultiLayerNet\n",
    "from deep_learning_github.common.optimizer import SGD\n",
    "\n",
    "\n",
    "# 0. MNIST 데이터 읽기==========\n",
    "(x_train, t_train), (x_test, t_test) = load_mnist(normalize=True)\n",
    "\n",
    "train_size = x_train.shape[0] # 60000\n",
    "batch_size = 128\n",
    "max_iterations = 2000\n",
    "\n",
    "\n",
    "# 1. 실험용 설정==========\n",
    "weight_init_types = {'std=0.01': 0.01, 'Xavier': 'sigmoid', 'He': 'relu'}\n",
    "optimizer = SGD(lr=0.01)\n",
    "\n",
    "networks = {}\n",
    "train_loss = {}\n",
    "for key, weight_type in weight_init_types.items():\n",
    "    networks[key] = MultiLayerNet(input_size=784, hidden_size_list=[100, 100, 100, 100],\n",
    "                                  output_size=10, weight_init_std=weight_type)\n",
    "    train_loss[key] = []\n",
    "\n",
    "\n",
    "# 2. 훈련 시작==========\n",
    "for i in range(max_iterations):\n",
    "    batch_mask = np.random.choice(train_size, batch_size)\n",
    "    x_batch = x_train[batch_mask]\n",
    "    t_batch = t_train[batch_mask]\n",
    "    \n",
    "    for key in weight_init_types.keys():\n",
    "        grads = networks[key].gradient(x_batch, t_batch)\n",
    "        optimizer.update(networks[key].params, grads)\n",
    "    \n",
    "        loss = networks[key].loss(x_batch, t_batch)\n",
    "        train_loss[key].append(loss)\n",
    "    \n",
    "    if i % 100 == 0:\n",
    "        print(\"===========\" + \"iteration:\" + str(i) + \"===========\")\n",
    "        for key in weight_init_types.keys():\n",
    "            loss = networks[key].loss(x_batch, t_batch)\n",
    "            print(key + \":\" + str(loss))\n",
    "\n",
    "\n",
    "# 3. 그래프 그리기==========\n",
    "markers = {'std=0.01': 'o', 'Xavier': 's', 'He': 'D'}\n",
    "x = np.arange(max_iterations)\n",
    "for key in weight_init_types.keys():\n",
    "    plt.plot(x, smooth_curve(train_loss[key]), marker=markers[key], markevery=100, label=key)\n",
    "plt.xlabel(\"iterations\")\n",
    "plt.ylabel(\"loss\")\n",
    "plt.ylim(0, 2.5)\n",
    "plt.legend()\n",
    "plt.show()\n"
   ]
  },
  {
   "cell_type": "code",
   "execution_count": 38,
   "id": "f7cab826",
   "metadata": {},
   "outputs": [
    {
     "data": {
      "text/plain": [
       "60000"
      ]
     },
     "execution_count": 38,
     "metadata": {},
     "output_type": "execute_result"
    }
   ],
   "source": [
    "train_size = x_train.shape[0]\n",
    "train_size"
   ]
  },
  {
   "cell_type": "code",
   "execution_count": 46,
   "id": "9bf1746d",
   "metadata": {},
   "outputs": [
    {
     "data": {
      "text/plain": [
       "numpy.ndarray"
      ]
     },
     "execution_count": 46,
     "metadata": {},
     "output_type": "execute_result"
    }
   ],
   "source": [
    "a = x_train[batch_mask]\n",
    "type(a)"
   ]
  },
  {
   "cell_type": "code",
   "execution_count": 40,
   "id": "ad5298ec",
   "metadata": {},
   "outputs": [
    {
     "data": {
      "text/plain": [
       "array([17603,  9029, 22282, 26923,  1130, 16747, 26593, 33293, 19027,\n",
       "       29031,  8891,  8069, 49450, 40493, 29107, 26635, 59346, 56784,\n",
       "        7983, 54227,  7590, 26000,  2926, 58308, 50547,   555,  9438,\n",
       "       44504,  5508, 19733,  3304, 17962, 54565, 42709, 58650, 47633,\n",
       "       35393,  8766, 35281, 21581, 25031, 30403, 34698, 13879, 10658,\n",
       "       18970,  2220, 54677, 27060, 19148, 23002, 28482, 18894, 56549,\n",
       "       53596, 11071, 27435, 42324, 27267,  5414, 10498, 25117, 40388,\n",
       "       14621, 31711, 29382, 59119,  1299, 44131, 41633, 37981, 29989,\n",
       "       12880, 11239, 31244, 22115, 20491, 58438, 29874, 52281,  1029,\n",
       "        1536, 26941, 14770, 45184, 30097, 50865, 26604, 32120, 44922,\n",
       "       12937, 30914, 19152,  4817, 42944, 10025, 28443,  8507,  4397,\n",
       "       56675, 58048, 10267, 16529, 42397, 30328, 46550, 35606, 24066,\n",
       "       41452, 53799,  2576,  4491, 11862, 10798, 50383, 39319, 11083,\n",
       "       56798, 59911, 43848,  6362, 12974, 51253, 26246, 57629, 38014,\n",
       "        9114, 41984])"
      ]
     },
     "execution_count": 40,
     "metadata": {},
     "output_type": "execute_result"
    }
   ],
   "source": [
    "batch_mask"
   ]
  },
  {
   "cell_type": "code",
   "execution_count": null,
   "id": "0464c651",
   "metadata": {},
   "outputs": [],
   "source": []
  },
  {
   "cell_type": "code",
   "execution_count": null,
   "id": "4429552f",
   "metadata": {},
   "outputs": [],
   "source": []
  },
  {
   "cell_type": "code",
   "execution_count": null,
   "id": "e49742e7",
   "metadata": {},
   "outputs": [],
   "source": []
  }
 ],
 "metadata": {
  "kernelspec": {
   "display_name": "Python 3",
   "language": "python",
   "name": "python3"
  },
  "language_info": {
   "codemirror_mode": {
    "name": "ipython",
    "version": 3
   },
   "file_extension": ".py",
   "mimetype": "text/x-python",
   "name": "python",
   "nbconvert_exporter": "python",
   "pygments_lexer": "ipython3",
   "version": "3.8.8"
  }
 },
 "nbformat": 4,
 "nbformat_minor": 5
}
